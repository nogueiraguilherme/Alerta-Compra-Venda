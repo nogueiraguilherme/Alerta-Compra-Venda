{
  "cells": [
    {
      "cell_type": "markdown",
      "metadata": {
        "id": "uSP1AxZSjAbh"
      },
      "source": [
        "---\n",
        "# **Criando sistema de alerta para compra e venda de Ações**\n",
        "\n",
        "---"
      ]
    },
    {
      "cell_type": "markdown",
      "metadata": {
        "id": "XCDTHmU8jAbj"
      },
      "source": [
        " **Instalando e importando bibliotecas**"
      ]
    },
    {
      "cell_type": "code",
      "execution_count": null,
      "metadata": {
        "id": "_4sYPGV_jAbj"
      },
      "outputs": [],
      "source": [
        "!pip install plyer"
      ]
    },
    {
      "cell_type": "code",
      "execution_count": null,
      "metadata": {
        "id": "hBsGjVcvjAbm"
      },
      "outputs": [],
      "source": [
        "!pip install MetaTrader"
      ]
    },
    {
      "cell_type": "code",
      "execution_count": null,
      "metadata": {
        "id": "8-cnDxKojAbn"
      },
      "outputs": [],
      "source": [
        "!pip install mplfinance"
      ]
    },
    {
      "cell_type": "code",
      "execution_count": null,
      "metadata": {
        "id": "j6HdnvE8jAbn"
      },
      "outputs": [],
      "source": [
        "!pip install numpy==1.23.5"
      ]
    },
    {
      "cell_type": "code",
      "execution_count": 1,
      "metadata": {
        "id": "2pGqG3mUjAbo"
      },
      "outputs": [],
      "source": [
        "from plyer import notification\n",
        "from time import sleep\n",
        "from datetime import datetime, timedelta"
      ]
    },
    {
      "cell_type": "code",
      "execution_count": null,
      "metadata": {
        "id": "WTxe2PqDjAbo"
      },
      "outputs": [],
      "source": [
        "import pandas as pd\n",
        "import MetaTrader5 as mt5\n",
        "import mplfinance as mpf"
      ]
    },
    {
      "cell_type": "markdown",
      "metadata": {
        "id": "zRTXN489jAbp"
      },
      "source": [
        "**Criando área de notificação com a função [notify](https://plyer.readthedocs.io/en/latest/api.html#plyer.facades.Notification.notify)**"
      ]
    },
    {
      "cell_type": "code",
      "execution_count": null,
      "metadata": {
        "id": "N_avOYu2jAbq"
      },
      "outputs": [],
      "source": [
        "# Teste do layout da notificação\n",
        "notification.notify(\n",
        "    title = 'Teste',\n",
        "    message = 'A contagem chegou em 5.',\n",
        "    app_icon = None,\n",
        "    timeout = 10,\n",
        ")"
      ]
    },
    {
      "cell_type": "code",
      "execution_count": null,
      "metadata": {
        "id": "0EcT_-tzjAbq"
      },
      "outputs": [],
      "source": [
        "# Incluir um arquivo .ico no alerta (logotipo pra notificação)\n",
        "icone_imagem = \"colocar aqui o caminho até o arquivo .ico\""
      ]
    },
    {
      "cell_type": "code",
      "execution_count": null,
      "metadata": {
        "id": "BFj54XOCjAbq"
      },
      "outputs": [],
      "source": [
        "# Testando a notificação com uma contagem de 0 a 5 para exibir a mensagem\n",
        "contagem = 0\n",
        "for i in range(6):\n",
        "    if (contagem == 5):\n",
        "        notification.notify(title = 'Teste',\n",
        "            message = 'A contagem chegou em 5.',\n",
        "            app_icon = icone_imagem,\n",
        "            timeout = 10)\n",
        "    else:\n",
        "        contagem+=1\n",
        "        sleep(1)"
      ]
    },
    {
      "cell_type": "markdown",
      "metadata": {
        "id": "5z-uWxJnjAbr"
      },
      "source": [
        "**Estrutura e coleta dos dados do alerta**"
      ]
    },
    {
      "cell_type": "code",
      "execution_count": null,
      "metadata": {
        "id": "qr7_fLY7jAbr"
      },
      "outputs": [],
      "source": [
        "# Inicializando o MetaTrader5 e fazendo conexão junto ao Pyhton\n",
        "mt5.initialize()"
      ]
    },
    {
      "cell_type": "markdown",
      "metadata": {
        "id": "ZGWz3BWIjAbr"
      },
      "source": [
        "Para montar um sistema que busca informações para daytrade, vamos trabalhar com o timeframe de 1 minuto, por isso 5 horas de dados são suficientes. Se fosse um sistema para operações mais longas, precisaríamos de um volume maior de informação."
      ]
    },
    {
      "cell_type": "code",
      "execution_count": null,
      "metadata": {
        "id": "onvXHwwOjAbs"
      },
      "outputs": [],
      "source": [
        "data_inicio = datetime.now() - timedelta(hours=5) # Variável para coletar 5 horas de dados a partir de agora\n",
        "data_fim = datetime.now()\n",
        "data_fim"
      ]
    },
    {
      "cell_type": "code",
      "execution_count": null,
      "metadata": {
        "id": "MRY6JPVbjAbs"
      },
      "outputs": [],
      "source": [
        "# Coletando informações de preço do mini índice no timeframe 1 min\n",
        "df_ohlcv = mt5.copy_rates_range('WIN$', mt5.TIMEFRAME_M1, data_inicio, data_fim)\n",
        "# Criando dataframe\n",
        "df_ohlcv = pd.DataFrame(df_ohlcv)\n",
        "# Convertendo coluna 'time' para que seja o índice\n",
        "df_ohlcv.index = pd.to_datetime(df_ohlcv[\"time\"], unit=\"s\")\n",
        "# Eliminando colunas desnecessárias\n",
        "df_ohlcv = df_ohlcv.drop(['time', 'tick_volume', 'spread'], axis=1)\n",
        "df_ohlcv"
      ]
    },
    {
      "cell_type": "markdown",
      "metadata": {
        "id": "iaS23u9CjAbs"
      },
      "source": [
        "**Criação das médias móveis**"
      ]
    },
    {
      "cell_type": "code",
      "execution_count": null,
      "metadata": {
        "id": "y6eJOyaujAbs"
      },
      "outputs": [],
      "source": [
        "# média móvel exponencial (mme)\n",
        "df_ohlcv['mm_rapida'] = df_ohlcv.close.ewm(span=9, min_periods=9).mean()\n",
        "# média móvel simples (mms)\n",
        "df_ohlcv['mm_lenta'] = df_ohlcv.close.rolling(20).mean()"
      ]
    },
    {
      "cell_type": "markdown",
      "metadata": {
        "id": "P6RMdfbIjAbt"
      },
      "source": [
        "A média móvel exponencial coloca mais peso nas observações mais recentes, tornando sua reação mais rápida que a média simples."
      ]
    },
    {
      "cell_type": "markdown",
      "metadata": {
        "id": "FHHDf5MBjAbt"
      },
      "source": [
        "**Testando visualmente o cruzamento de médias**\n",
        "\n",
        "*   Usar apenas as últimas 100 linhas a partir do momento presente, para reduzir o processamento."
      ]
    },
    {
      "cell_type": "code",
      "execution_count": null,
      "metadata": {
        "id": "YPTTVcIajAbt"
      },
      "outputs": [],
      "source": [
        "# contador que vai pegar as 100 últimas linhas, vai pegar a última e contar pra trás\n",
        "i = -100\n",
        "# média rápida = vermelha\n",
        "fig_mm_rapida = mpf.make_addplot(df_ohlcv['mm_rapida'][i:], type='line', color='red')\n",
        "# média lenta = azul\n",
        "fig_mm_lenta = mpf.make_addplot(df_ohlcv['mm_lenta'][i:], type='line', color='blue')\n",
        "# criando área de plotagem com as 100 últimas linhas do dataframe e as médias móveis\n",
        "mpf.plot(df_ohlcv[i:], type='candle', addplot=[fig_mm_rapida, fig_mm_lenta], figsize=(10,6))"
      ]
    },
    {
      "cell_type": "markdown",
      "metadata": {
        "id": "tiHeuLVWjAbu"
      },
      "source": [
        "**Função para detecção de cruzamento das médias móveis**\n",
        "*   Agora vamos unir todos os passos acima em uma função de detecção de sinal de trade.          \n"
      ]
    },
    {
      "cell_type": "code",
      "execution_count": null,
      "metadata": {
        "id": "PLd7UbltjAbu"
      },
      "outputs": [],
      "source": [
        "def cruzamento_mms(data_series, window_mm1=9, window_mm2=20, tipo_mm1='mme', tipo_mm2='mma'):\n",
        "\n",
        "    \"\"\"\n",
        "    Verifica o cruzamento de duas médias móveis.\n",
        "\n",
        "    :param data_series (pd.core.series.Series): série de dados (usualmente fechamento dos ativos);\n",
        "    :param window_mm1 (int): # períodos da primeira média móvel (média mais rápida). Default 9;\n",
        "    :param window_mm2 (int): # períodos da segunda média móvel (média mais lenta). Default 20;\n",
        "    :param tipo_mm1 (str): tipo da média móvel rápida. Possibilidades: média móvel aritmética (mma) ou média móvel exponencial (mme). Default 'mme';\n",
        "    :param tipo_mm2 (str): tipo da média móvel lenta. Possibilidades: média móvel aritmética (mma) ou média móvel exponencial (mme). Default 'mma';\n",
        "\n",
        "    :return (bool): True or False quando houver cruzamentos\n",
        "    \"\"\"\n",
        "\n",
        "    if tipo_mm1=='mme':\n",
        "        mm_rapida = data_series.ewm(span=window_mm1, min_periods=window_mm1).mean()\n",
        "    else:\n",
        "        mm_rapida = data_series.close.rolling(window_mm1).mean()\n",
        "\n",
        "    if tipo_mm2=='mme':\n",
        "        mm_lenta = data_series.ewm(span=window_mm2, min_periods=window_mm2).mean()\n",
        "    else:\n",
        "        mm_lenta = data_series.rolling(window_mm2).mean()\n",
        "\n",
        "    cond_cruz_acima = (mm_rapida[-1] > mm_lenta[-1]) and (mm_rapida[-2] < mm_lenta[-2])\n",
        "    cond_cruz_abaixo = (mm_rapida[-1] < mm_lenta[-1]) and (mm_rapida[-2] > mm_lenta[-2])\n",
        "\n",
        "    if cond_cruz_acima:\n",
        "        return cond_cruz_acima, 'sinal de compra'\n",
        "    elif cond_cruz_abaixo:\n",
        "        return cond_cruz_abaixo, 'sinal de venda'\n",
        "    else:\n",
        "        return False, 'nada a fazer'"
      ]
    },
    {
      "cell_type": "code",
      "execution_count": null,
      "metadata": {
        "id": "HeDbxSQEjAbv"
      },
      "outputs": [],
      "source": [
        "cruzamento_mms(df_ohlcv.close, window_mm1=9, window_mm2=20, tipo_mm1='mme', tipo_mm2='mma')"
      ]
    },
    {
      "cell_type": "markdown",
      "metadata": {
        "id": "2aETxDSmjAbv"
      },
      "source": [
        "**Alerta com os dados real time do MT5**\n",
        "*   Até o momento, testamos somente com dados do Mini Índice, agora testaremos com todas as Ações do IBOV em tempo real."
      ]
    },
    {
      "cell_type": "code",
      "execution_count": null,
      "metadata": {
        "id": "W7Jd7JdhjAbv"
      },
      "outputs": [],
      "source": [
        "tickers_ibov = ['ABEV3', 'ALPA4', 'ALSO3', 'ARZZ3', 'ASAI3', 'AZUL4', 'B3SA3', 'BBAS3', 'BBDC3',\n",
        "                'BBDC4', 'BBSE3', 'BEEF3', 'BPAC11', 'BRAP4', 'BRFS3', 'BRKM5', 'CASH3', 'CCRO3',\n",
        "                'CIEL3', 'CMIG4', 'CMIN3', 'COGN3', 'CPFE3', 'CPLE6', 'CRFB3', 'CSAN3', 'CSNA3',\n",
        "                'CVCB3', 'CYRE3', 'DXCO3', 'EGIE3', 'ELET3', 'ELET6', 'EMBR3', 'ENEV3', 'ENGI11',\n",
        "                'EQTL3', 'EZTC3', 'FLRY3', 'GGBR4', 'GOAU4', 'GOLL4', 'HAPV3', 'HYPE3', 'IGTI11',\n",
        "                'IRBR3', 'ITSA4', 'ITUB4', 'JBSS3', 'KLBN11', 'LREN3', 'LWSA3', 'MGLU3', 'MRFG3',\n",
        "                'MRVE3', 'MULT3', 'NTCO3', 'PCAR3', 'PETR3', 'PETR4', 'PETZ3', 'PRIO3', 'RADL3',\n",
        "                'RAIL3', 'RAIZ4', 'RDOR3', 'RENT3', 'RRRP3', 'SANB11', 'SBSP3', 'SLCE3', 'SMTO3',\n",
        "                'SOMA3', 'SUZB3', 'TAEE11', 'TIMS3', 'TOTS3', 'UGPA3', 'USIM5', 'VALE3', 'VBBR3',\n",
        "                'VIIA3', 'VIVT3', 'WEGE3', 'YDUQ3']"
      ]
    },
    {
      "cell_type": "markdown",
      "source": [
        "Faremos um loop de repetição, que permanecerá ativo enquanto as condições estiverem sendo satisfeitas (sejam verdadeiras).\n",
        "\n",
        "No caso, enquanto o horário for menor que 16 horas, para cada Ação(ticker):\n",
        "*   Capturar dados de preço das Ações das últimas 5 horas, no timeframe 5 min;\n",
        "*   Criar um dataframe;\n",
        "*   Converter a coluna 'time' para que seja o índice;\n",
        "*   Executar a função de verificação de cruzamento de médias;\n",
        "*   Emitir aviso de sinal de compra e venda caso encontre cruzamento de médias."
      ],
      "metadata": {
        "id": "MIv16XPCdV77"
      }
    },
    {
      "cell_type": "code",
      "execution_count": null,
      "metadata": {
        "id": "W-6dIg3QjAbw"
      },
      "outputs": [],
      "source": [
        "# defininda valores para médias móveis\n",
        "window_mm1 = 9\n",
        "window_mm2 = 20\n",
        "\n",
        "# início do loop de repetição\n",
        "while datetime.now().hour < 16:\n",
        "    # verificação das Ações\n",
        "    for i in tickers_ibov:\n",
        "        # coleta e tratamento de dados da Ação\n",
        "        data_inicio = datetime.now() - timedelta(hours=5)\n",
        "        data_fim = datetime.now()\n",
        "        df_ohlcv = mt5.copy_rates_range(i, mt5.TIMEFRAME_M5, data_inicio, data_fim)\n",
        "        df_ohlcv = pd.DataFrame(df_ohlcv)\n",
        "        df_ohlcv.index = pd.to_datetime(df_ohlcv[\"time\"], unit=\"s\")\n",
        "\n",
        "        # excecução da função de cruzamento de médias\n",
        "        sinal, aviso = cruzamento_mms(df_ohlcv.close, window_mm1, window_mm2)\n",
        "\n",
        "        if sinal and aviso=='sinal de compra':\n",
        "            # envio da notificação de compra para o PC\n",
        "            notification.notify(title = 'Alert de Compra',\n",
        "                message = f'Cruzamento para cima em {i} !',\n",
        "                app_icon = icone_imagem,\n",
        "                timeout = 2)\n",
        "            print(i, 'Sinal de Compra')\n",
        "\n",
        "        if sinal and aviso=='sinal de venda':\n",
        "            # envio da notificação de venda para o PC\n",
        "            notification.notify(title = 'Alerta de Venda',\n",
        "                message = f'Cruzamento para baixo em {i} !',\n",
        "                app_icon = icone_imagem,\n",
        "                timeout = 2)\n",
        "            print(i, 'Sinal de Venda')\n",
        "\n",
        "        # finalização da verificação das Ações, vai pausar por 30s e retomar até que seja 16h\n",
        "        if i=='YDUQ3':\n",
        "            print('Varredura finalizada, reiniciando em 30s')\n",
        "            sleep(30)"
      ]
    },
    {
      "cell_type": "markdown",
      "source": [
        "Importante salienter que se não faço operações em todos os ativos do IBOV, não há motivos para que estes estejam na lista de análise, isso vai onerar o processamento da máquina.\n",
        "\n",
        "Para minminar o processamento, posso executar mais algum screening prévio à análise, de forma a filtrar mais os ativos que serão analisados."
      ],
      "metadata": {
        "id": "vaE8xM5NhTBz"
      }
    }
  ],
  "metadata": {
    "kernelspec": {
      "display_name": "Python 3 (ipykernel)",
      "language": "python",
      "name": "python3"
    },
    "language_info": {
      "codemirror_mode": {
        "name": "ipython",
        "version": 3
      },
      "file_extension": ".py",
      "mimetype": "text/x-python",
      "name": "python",
      "nbconvert_exporter": "python",
      "pygments_lexer": "ipython3",
      "version": "3.9.13"
    },
    "colab": {
      "provenance": []
    }
  },
  "nbformat": 4,
  "nbformat_minor": 0
}